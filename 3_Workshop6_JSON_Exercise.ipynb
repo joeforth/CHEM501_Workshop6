{
 "cells": [
  {
   "cell_type": "markdown",
   "metadata": {},
   "source": [
    "# Getting to Know JSON - A Quick Python Exercise\n",
    "Up until now we've mostly saved our data in .csv files. These are great for handling data with a simple tabular structure (such as your Arduino data), but not so great for storing data with a more complicated structure. \n",
    "\n",
    "JSON is extremely good for building data files with complicated, structure, such as information about chemicals or, say, the experimental conditions that you used to gather your Arduino data.\n",
    "\n",
    "In this workbook, we'll look through how to produce, save, and load JSON files to build up some basic information about the compound betamethasone. The details are taken from [its ChEMBL entry](https://www.ebi.ac.uk/chembl/web_components/explore/compound/CHEMBL632)."
   ]
  },
  {
   "cell_type": "markdown",
   "metadata": {},
   "source": [
    "### 1.1 Creating a JSON file.\n",
    "JSON stores data in collections very similar to Python - lists, dictionaries, and tuples, etc.\n",
    "\n",
    "Just like dictionaries in Python, JSON files have a key-value format.\n",
    "\n",
    "First, we'll import the library and create dictionary that stores the name of our compound."
   ]
  },
  {
   "cell_type": "code",
   "execution_count": 1,
   "metadata": {},
   "outputs": [],
   "source": [
    "import json\n",
    "\n",
    "data = {'CompoundName' : 'Betamethasone'}"
   ]
  },
  {
   "cell_type": "markdown",
   "metadata": {},
   "source": [
    "### 1.2 Writing to a JSON File Using Python\n",
    "You can read or write JSON files easily in Python. The example below writes a file called 'chemdata.json' into the directory that your code is stored in. Run the code below and check that its worked."
   ]
  },
  {
   "cell_type": "code",
   "execution_count": 2,
   "metadata": {},
   "outputs": [
    {
     "data": {
      "text/plain": [
       "{'CompoundName': 'Betamethasone'}"
      ]
     },
     "execution_count": 2,
     "metadata": {},
     "output_type": "execute_result"
    }
   ],
   "source": [
    "output_file = './chemdata.json'\n",
    "# Write the combined data to a single output file\n",
    "with open(output_file, 'w') as outfile:\n",
    "    json.dump(data, outfile, indent=4)\n",
    "\n",
    "data"
   ]
  },
  {
   "cell_type": "markdown",
   "metadata": {},
   "source": [
    "### 1.3 Reading from a JSON File into Python\n",
    "Now let's read in the JSON file we've just saved, again to check things are behaving."
   ]
  },
  {
   "cell_type": "code",
   "execution_count": 4,
   "metadata": {},
   "outputs": [
    {
     "data": {
      "text/plain": [
       "{'CompoundName': 'Betamethasone'}"
      ]
     },
     "execution_count": 4,
     "metadata": {},
     "output_type": "execute_result"
    }
   ],
   "source": [
    "input_file = './chemdata.json'\n",
    "# Write the combined data to a single output file\n",
    "with open(input_file, 'r') as file:\n",
    "    data = json.load(file)\n",
    "data"
   ]
  },
  {
   "cell_type": "markdown",
   "metadata": {},
   "source": [
    "### 1.4 Building a More Complicated JSON File\n",
    "JSONs can store dictionaries within dictionaries. Let's use this property to give our molecule an identifier, in this case 'Molecule1'\n",
    "\n",
    "Write the code below to your JSON file:"
   ]
  },
  {
   "cell_type": "code",
   "execution_count": 5,
   "metadata": {},
   "outputs": [],
   "source": [
    "data = {'Molecule1' : \n",
    "        {'CompoundName' : 'Betamethasone'}\n",
    "}"
   ]
  },
  {
   "cell_type": "markdown",
   "metadata": {},
   "source": [
    "Note that the identifier isn't a very good one. Think about why that might be (how does this identifier distinguish it from other molecules...?). We'll come back to this later."
   ]
  },
  {
   "cell_type": "markdown",
   "metadata": {},
   "source": [
    "### 1.5 Adding Multiple Pieces of Data\n",
    "\n",
    "You can now add as many pieces of information as you like to your dictionary. <b>Write the following information to your JSON file:</b>"
   ]
  },
  {
   "cell_type": "code",
   "execution_count": null,
   "metadata": {},
   "outputs": [],
   "source": [
    "data = {'Molecule1' : \n",
    "        {'CompoundName' : 'Betamethasone',\n",
    "         'MolecularFormula' : 'C22H29FO5',\n",
    "         'inchikey' : 'UREBDLICKHMUKA-DVTGEIKXSA-N'\n",
    "         },\n",
    "}"
   ]
  },
  {
   "cell_type": "markdown",
   "metadata": {},
   "source": [
    "### 1.6 Dictionaries within Dictionaries within Dictionaries\n",
    "Sometimes, you might want to relate more than one value to a single trait. For instance, if your drug had multiple brand names, you could place multiple dictionaries inside a list:"
   ]
  },
  {
   "cell_type": "code",
   "execution_count": null,
   "metadata": {},
   "outputs": [],
   "source": [
    "data = {'Molecule1' : \n",
    "            {'CompoundName' : 'Betamethasone',\n",
    "             'MolecularFormula' : 'C22H29FO5',\n",
    "             'inchikey' : 'UREBDLICKHMUKA-DVTGEIKXSA-N',\n",
    "\n",
    "            'synonyms': [\n",
    "                {\n",
    "                'synonym': 'Betatrex',\n",
    "                'source': 'ChEMBL',\n",
    "                },\n",
    "                {\n",
    "                'synonym': 'Celestone',\n",
    "                'source': 'ChEMBL',\n",
    "                }\n",
    "            ]  \n",
    "            }\n",
    "        }\n",
    "\n",
    "output_file = './chemdata.json'\n"
   ]
  },
  {
   "cell_type": "markdown",
   "metadata": {},
   "source": [
    "### JSON Exercise\n",
    "\n",
    "Assign each group member a molecule from your list. Search the internet for the information to fill out the above JSON template as a far as possible, and save each file.\n",
    "\n",
    "<b>Now go back to the Workbook and start Exercise 3.3</b>"
   ]
  },
  {
   "cell_type": "markdown",
   "metadata": {},
   "source": [
    "# JSON Activity 2\n",
    "The code below can be used to join multiple JSON files together - it will be useful in Exercise 3.5.\n",
    "\n",
    "You'll need to run this code in the same directory that the Workshop 6 repo is stored in.\n"
   ]
  },
  {
   "cell_type": "code",
   "execution_count": 9,
   "metadata": {},
   "outputs": [],
   "source": [
    "import collate_json as cj\n",
    "input_directory = './saved_jsons' \n",
    "output_file_path = './json_combined.json'\n",
    "cj.combine_json_files(input_directory, output_file_path)"
   ]
  },
  {
   "cell_type": "markdown",
   "metadata": {},
   "source": [
    "Take a look in the folder ./saved_jsons to see the output of the code."
   ]
  },
  {
   "cell_type": "markdown",
   "metadata": {},
   "source": [
    "### Thinking About Uniqueness\n",
    "In the above example we've given our molecule an identifier - 'Molecule1'. However, it's not a very good identifier, because it's not unique, which will make Gemma sad. What might be a suitable unique identifier that you've encountered in this workshop?"
   ]
  },
  {
   "cell_type": "markdown",
   "metadata": {},
   "source": [
    "### Further Reading\n",
    "\n",
    "You can find full details about the module we used and some examples at the [JSON Python module documentation page](https://docs.python.org/3/library/json.html).\n",
    "\n",
    "There are also a huge number of useful tutorials that you find online if you search \"JSON and Python\", [such as this one](https://realpython.com/python-json/)."
   ]
  },
  {
   "cell_type": "code",
   "execution_count": null,
   "metadata": {},
   "outputs": [],
   "source": []
  }
 ],
 "metadata": {
  "kernelspec": {
   "display_name": "base",
   "language": "python",
   "name": "python3"
  },
  "language_info": {
   "codemirror_mode": {
    "name": "ipython",
    "version": 3
   },
   "file_extension": ".py",
   "mimetype": "text/x-python",
   "name": "python",
   "nbconvert_exporter": "python",
   "pygments_lexer": "ipython3",
   "version": "3.10.9"
  }
 },
 "nbformat": 4,
 "nbformat_minor": 2
}
